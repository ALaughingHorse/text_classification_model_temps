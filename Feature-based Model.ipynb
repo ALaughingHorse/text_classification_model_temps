{
 "cells": [
  {
   "cell_type": "code",
   "execution_count": 13,
   "metadata": {},
   "outputs": [],
   "source": [
    "import pandas as pd\n",
    "import numpy as np\n",
    "import pickle\n",
    "import nltk"
   ]
  },
  {
   "cell_type": "markdown",
   "metadata": {},
   "source": [
    "## Environments"
   ]
  },
  {
   "cell_type": "code",
   "execution_count": 2,
   "metadata": {},
   "outputs": [],
   "source": [
    "DATA_PATH = \"/Users/xiaoma/Desktop/kaggle/toxicComments/data/toxic_balanced.csv\""
   ]
  },
  {
   "cell_type": "markdown",
   "metadata": {},
   "source": [
    "## Read data\n",
    "\n",
    "This template assumes clean data"
   ]
  },
  {
   "cell_type": "code",
   "execution_count": 17,
   "metadata": {},
   "outputs": [],
   "source": [
    "data = pd.read_csv(DATA_PATH)\n",
    "# sample the data for computation efficiency\n",
    "data = data.sample(2000)"
   ]
  },
  {
   "cell_type": "code",
   "execution_count": 18,
   "metadata": {},
   "outputs": [
    {
     "data": {
      "text/html": [
       "<div>\n",
       "<style scoped>\n",
       "    .dataframe tbody tr th:only-of-type {\n",
       "        vertical-align: middle;\n",
       "    }\n",
       "\n",
       "    .dataframe tbody tr th {\n",
       "        vertical-align: top;\n",
       "    }\n",
       "\n",
       "    .dataframe thead th {\n",
       "        text-align: right;\n",
       "    }\n",
       "</style>\n",
       "<table border=\"1\" class=\"dataframe\">\n",
       "  <thead>\n",
       "    <tr style=\"text-align: right;\">\n",
       "      <th></th>\n",
       "      <th>Unnamed: 0</th>\n",
       "      <th>comment_text</th>\n",
       "      <th>toxic</th>\n",
       "    </tr>\n",
       "  </thead>\n",
       "  <tbody>\n",
       "    <tr>\n",
       "      <th>20788</th>\n",
       "      <td>20788</td>\n",
       "      <td>\"Do you have any sources regarding Boca Acton?...</td>\n",
       "      <td>0</td>\n",
       "    </tr>\n",
       "    <tr>\n",
       "      <th>20731</th>\n",
       "      <td>20731</td>\n",
       "      <td>Using your knowledge as a reference... \\n\\nNoe...</td>\n",
       "      <td>0</td>\n",
       "    </tr>\n",
       "    <tr>\n",
       "      <th>27535</th>\n",
       "      <td>27535</td>\n",
       "      <td>Requested move\\n \\n\\nTakajin →  – Alike case t...</td>\n",
       "      <td>0</td>\n",
       "    </tr>\n",
       "    <tr>\n",
       "      <th>2248</th>\n",
       "      <td>2248</td>\n",
       "      <td>Mujahedins \\n\\nWhats wrong with Mujjahedin? Ce...</td>\n",
       "      <td>1</td>\n",
       "    </tr>\n",
       "    <tr>\n",
       "      <th>1256</th>\n",
       "      <td>1256</td>\n",
       "      <td>Proper Cunt \\n\\nNot my fault you are a silly c...</td>\n",
       "      <td>1</td>\n",
       "    </tr>\n",
       "  </tbody>\n",
       "</table>\n",
       "</div>"
      ],
      "text/plain": [
       "       Unnamed: 0                                       comment_text  toxic\n",
       "20788       20788  \"Do you have any sources regarding Boca Acton?...      0\n",
       "20731       20731  Using your knowledge as a reference... \\n\\nNoe...      0\n",
       "27535       27535  Requested move\\n \\n\\nTakajin →  – Alike case t...      0\n",
       "2248         2248  Mujahedins \\n\\nWhats wrong with Mujjahedin? Ce...      1\n",
       "1256         1256  Proper Cunt \\n\\nNot my fault you are a silly c...      1"
      ]
     },
     "execution_count": 18,
     "metadata": {},
     "output_type": "execute_result"
    }
   ],
   "source": [
    "data.head()"
   ]
  },
  {
   "cell_type": "markdown",
   "metadata": {},
   "source": [
    "## Split into training and testing sets"
   ]
  },
  {
   "cell_type": "code",
   "execution_count": 19,
   "metadata": {},
   "outputs": [],
   "source": [
    "\"\"\"\n",
    "Training and testing split\n",
    "\"\"\"\n",
    "import random\n",
    "random.seed(923)\n",
    "\n",
    "from sklearn.model_selection import train_test_split\n",
    "X_train, X_test, y_train, y_test = train_test_split(data.comment_text, data.toxic, test_size = 0.25,random_state = 23)\n",
    "\n",
    "X_train.reset_index(drop = True,inplace = True)\n",
    "X_test.reset_index(drop = True,inplace = True)\n",
    "y_train.reset_index(drop = True,inplace = True)\n",
    "y_test.reset_index(drop = True,inplace = True)"
   ]
  },
  {
   "cell_type": "code",
   "execution_count": 20,
   "metadata": {},
   "outputs": [
    {
     "data": {
      "text/plain": [
       "(1500,)"
      ]
     },
     "execution_count": 20,
     "metadata": {},
     "output_type": "execute_result"
    }
   ],
   "source": [
    "X_train.shape"
   ]
  },
  {
   "cell_type": "markdown",
   "metadata": {},
   "source": [
    "## Vectorize each document and create DTM"
   ]
  },
  {
   "cell_type": "code",
   "execution_count": 24,
   "metadata": {},
   "outputs": [],
   "source": [
    "from sklearn.feature_extraction.text import TfidfVectorizer\n",
    "from tokenizer_xm import text_tokenizer_xm, contractions\n",
    "\n",
    "# Build a wrapper for tokenizer\n",
    "def tokenizer(text):\n",
    "    tk = text_tokenizer_xm(text = text, lemma_flag = True, stem_flag = True,contractions=contractions)\n",
    "    return tk.txt_pre_pros()\n",
    "\n",
    "# Fit the Count vectorizer\n",
    "vec_count = TfidfVectorizer(ngram_range = (1,1),tokenizer=tokenizer,min_df = 15, max_df = 0.9)\n",
    "vec_count_f = vec_count.fit(X_train)\n",
    "\n",
    "# Create the triaining document-term matrix\n",
    "vec_f = vec_count_f\n",
    "train_dtm = vec_f.transform(X_train)"
   ]
  },
  {
   "cell_type": "markdown",
   "metadata": {},
   "source": [
    "## Append additional features\n",
    "\n",
    "Here we assume that we want to add LDA scores as additional features just as an example"
   ]
  },
  {
   "cell_type": "code",
   "execution_count": 29,
   "metadata": {},
   "outputs": [],
   "source": [
    "# Convert the DTM to an array/pandas dataframe to include more features\n",
    "train_input = pd.DataFrame(train_dtm.toarray())\n",
    "\n",
    "# assign column names\n",
    "train_input.columns = vec_f.get_feature_names()\n",
    "\n",
    "# Calculate the LDA scores\n",
    "topic_num = 5\n",
    "from sklearn.decomposition import LatentDirichletAllocation\n",
    "lda = LatentDirichletAllocation(n_components = topic_num)\n",
    "lda_f = lda.fit(train_dtm)\n",
    "lda_weights = lda_f.transform(train_dtm)\n",
    "\n",
    "# Append the new features\n",
    "for i in range(topic_num):\n",
    "    train_input['lda_topic_{}'.format(i)] = lda_weights[:,i]"
   ]
  },
  {
   "cell_type": "markdown",
   "metadata": {},
   "source": [
    "## Input into model"
   ]
  },
  {
   "cell_type": "code",
   "execution_count": 30,
   "metadata": {},
   "outputs": [],
   "source": [
    "from xgboost import XGBClassifier\n",
    "# initialize\n",
    "xgbc = XGBClassifier(n_estimators=200)\n",
    "xgbc_lda = xgbc.fit(train_input,y_train)"
   ]
  },
  {
   "cell_type": "markdown",
   "metadata": {},
   "source": [
    "## Scoring"
   ]
  },
  {
   "cell_type": "code",
   "execution_count": 31,
   "metadata": {},
   "outputs": [
    {
     "data": {
      "text/plain": [
       "0.85"
      ]
     },
     "execution_count": 31,
     "metadata": {},
     "output_type": "execute_result"
    }
   ],
   "source": [
    "# create DTM\n",
    "test_dtm = vec_f.transform(X_test)\n",
    "\n",
    "# Transform into dataframe\n",
    "test_input = pd.DataFrame(test_dtm.toarray())\n",
    "test_input.columns = vec_f.get_feature_names()\n",
    "\n",
    "# Get LDA weights for test data\n",
    "test_lda_weights = lda_f.transform(test_dtm)\n",
    "\n",
    "# Append the new features\n",
    "for i in range(topic_num):\n",
    "    test_input['lda_topic_{}'.format(i)] = test_lda_weights[:,i]\n",
    "\n",
    "# Make predictions\n",
    "pred_lda = xgbc_lda.predict(test_input)\n",
    "\n",
    "# Get Accuray\n",
    "sum(pred_lda == y_test)/len(y_test)"
   ]
  },
  {
   "cell_type": "markdown",
   "metadata": {},
   "source": [
    "If the results are satisfactory, the following needs to be saved for reuse:\n",
    "1. Trained Model\n",
    "2. Tokenizer\n",
    "3. Fitted vectorizer\n",
    "4. Fitted LDA"
   ]
  },
  {
   "cell_type": "code",
   "execution_count": 10,
   "metadata": {},
   "outputs": [],
   "source": [
    "import cloudpickle\n",
    "with open('xgb_model.pkl','wb') as file:\n",
    "    pickle.dump(xgbc_lda,file)\n",
    "    \n",
    "with open('xgb_tokenizer.pkl','wb') as file:\n",
    "    pickle.dump(tokenizer,file)\n",
    "    \n",
    "with open('xgb_vectorizer.pkl','wb') as file:\n",
    "    # Use Cloudpickle to pickle the dependencies\n",
    "    cloudpickle.dump(vec_f,file)\n",
    "\n",
    "with open(\"xgb_lda.pkl\",'wb') as file:\n",
    "    pickle.dump(lda_f,file)"
   ]
  },
  {
   "cell_type": "code",
   "execution_count": null,
   "metadata": {},
   "outputs": [],
   "source": [
    "\"\"\"\n",
    "Draft\n",
    "\"\"\"\n",
    "fake = pd.DataFrame({\"comment_text\":[\"My name is Marshal\",\"My name is Marshal\",\"My name is Marshal\"]})\n",
    "fake"
   ]
  },
  {
   "cell_type": "code",
   "execution_count": null,
   "metadata": {},
   "outputs": [],
   "source": [
    "vec_f.transform(fake)"
   ]
  },
  {
   "cell_type": "code",
   "execution_count": null,
   "metadata": {},
   "outputs": [],
   "source": [
    "X_test[0]"
   ]
  },
  {
   "cell_type": "code",
   "execution_count": 12,
   "metadata": {},
   "outputs": [],
   "source": [
    "data.to_csv(\"toxic_balanced_sampled.csv\")"
   ]
  },
  {
   "cell_type": "code",
   "execution_count": null,
   "metadata": {},
   "outputs": [],
   "source": []
  }
 ],
 "metadata": {
  "kernelspec": {
   "display_name": "Python 3",
   "language": "python",
   "name": "python3"
  },
  "language_info": {
   "codemirror_mode": {
    "name": "ipython",
    "version": 3
   },
   "file_extension": ".py",
   "mimetype": "text/x-python",
   "name": "python",
   "nbconvert_exporter": "python",
   "pygments_lexer": "ipython3",
   "version": "3.7.3"
  }
 },
 "nbformat": 4,
 "nbformat_minor": 2
}
