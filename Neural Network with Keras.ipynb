{
 "cells": [
  {
   "cell_type": "code",
   "execution_count": 10,
   "metadata": {},
   "outputs": [],
   "source": [
    "import pandas as pd\n",
    "import numpy as np\n",
    "import pickle\n",
    "import nltk\n",
    "%matplotlib inline"
   ]
  },
  {
   "cell_type": "markdown",
   "metadata": {},
   "source": [
    "## Environments"
   ]
  },
  {
   "cell_type": "code",
   "execution_count": 2,
   "metadata": {},
   "outputs": [],
   "source": [
    "# Path to the data file\n",
    "DATA_PATH = \"/Users/xiaoma/Desktop/kaggle/toxicComments/data/toxic_balanced.csv\"\n",
    "\n",
    "# Path to the Glove embedding file\n",
    "GLOVE_PATH = \"/Users/xiaoma/Desktop/glove_emb/glove.6B.100d.txt\""
   ]
  },
  {
   "cell_type": "markdown",
   "metadata": {},
   "source": [
    "## Read data"
   ]
  },
  {
   "cell_type": "code",
   "execution_count": 3,
   "metadata": {},
   "outputs": [],
   "source": [
    "data = pd.read_csv(DATA_PATH)\n",
    "# sample the data for computation efficiency\n",
    "data = data.sample(2000)"
   ]
  },
  {
   "cell_type": "markdown",
   "metadata": {},
   "source": [
    "## Split into training and testing sets"
   ]
  },
  {
   "cell_type": "code",
   "execution_count": 4,
   "metadata": {},
   "outputs": [],
   "source": [
    "\"\"\"\n",
    "Training and testing split\n",
    "\"\"\"\n",
    "import random\n",
    "random.seed(923)\n",
    "\n",
    "from sklearn.model_selection import train_test_split\n",
    "X_train, X_test, y_train, y_test = train_test_split(data.comment_text, data.toxic, test_size = 0.25,random_state = 23)\n",
    "\n",
    "X_train.reset_index(drop = True,inplace = True)\n",
    "X_test.reset_index(drop = True,inplace = True)\n",
    "y_train.reset_index(drop = True,inplace = True)\n",
    "y_test.reset_index(drop = True,inplace = True)"
   ]
  },
  {
   "cell_type": "markdown",
   "metadata": {},
   "source": [
    "## Text Pre-processing\n",
    "\n",
    "In this step, we can apply additional pre-processing before tokenization. Namely lemmatization/stemming"
   ]
  },
  {
   "cell_type": "code",
   "execution_count": 5,
   "metadata": {},
   "outputs": [
    {
     "name": "stdout",
     "output_type": "stream",
     "text": [
      "Results of pre_processing:\n",
      "Original text:\n",
      "BLOCKED \n",
      "\n",
      "why did you block me? is it because so you can get that stupid graphic star. how dumb. please dont as i have not vandelised any page so get used to it you idiot.\n",
      "Processed:\n",
      "['block', 'why', 'do', 'you', 'block', 'me', 'be', 'it', 'because', 'so', 'you', 'can', 'get', 'that', 'stupid', 'graphic', 'star', 'how', 'dumb', 'please', 'dont', 'a', 'have', 'not', 'vandelised', 'any', 'page', 'so', 'get', 'use', 'to', 'it', 'you', 'idiot']\n"
     ]
    }
   ],
   "source": [
    "from tokenizer_xm import text_tokenizer_xm, contractions\n",
    "\n",
    "doc_train_processed = text_tokenizer_xm(text = X_train,lemma_flag = True, stem_flag = False, \\\n",
    "                                           stopwords=[],contractions = contractions).txt_pre_pros_all()\n",
    "\n",
    "print(\"Results of pre_processing:\")\n",
    "print(\"Original text:\")\n",
    "print(X_train[0])\n",
    "print(\"Processed:\")\n",
    "print(doc_train_processed[0])"
   ]
  },
  {
   "cell_type": "markdown",
   "metadata": {},
   "source": [
    "Next we need to turn the text tokens into numeric vectors. The keras tokenizer can be applied directly to raw text. In this case, we use it on tokenized text"
   ]
  },
  {
   "cell_type": "code",
   "execution_count": 6,
   "metadata": {},
   "outputs": [
    {
     "name": "stderr",
     "output_type": "stream",
     "text": [
      "Using TensorFlow backend.\n"
     ]
    }
   ],
   "source": [
    "from keras.preprocessing.text import Tokenizer\n",
    "# Create the tokenizer\n",
    "t = Tokenizer()\n",
    "# Fit the tokenizer on the documents\n",
    "t.fit_on_texts(doc_train_processed)"
   ]
  },
  {
   "cell_type": "markdown",
   "metadata": {},
   "source": [
    "As of the keras version 2.2.4, we cannot apply filters to the tokenizer to have it filter out the rare tokens. Hence we need to do it manually "
   ]
  },
  {
   "cell_type": "code",
   "execution_count": 7,
   "metadata": {},
   "outputs": [
    {
     "name": "stdout",
     "output_type": "stream",
     "text": [
      "Original text:\n",
      "BLOCKED \n",
      "\n",
      "why did you block me? is it because so you can get that stupid graphic star. how dumb. please dont as i have not vandelised any page so get used to it you idiot.\n",
      "Processed:\n",
      "['block', 'why', 'do', 'you', 'block', 'me', 'be', 'it', 'because', 'so', 'you', 'can', 'get', 'that', 'stupid', 'graphic', 'star', 'how', 'dumb', 'please', 'dont', 'a', 'have', 'not', 'vandelised', 'any', 'page', 'so', 'get', 'use', 'to', 'it', 'you', 'idiot']\n",
      "Vectorized:\n",
      "[64, 83, 11, 3, 64, 22, 1, 7, 56, 38, 3, 34, 54, 10, 177, 523, 523, 75, 523, 68, 256, 20, 8, 9, 523, 79, 25, 38, 54, 58, 4, 7, 3, 237]\n"
     ]
    }
   ],
   "source": [
    "\"\"\"\n",
    "Find tokens appears less than 20 times\n",
    "\"\"\"\n",
    "rare = []\n",
    "for word, count in t.word_counts.items():\n",
    "    if count <=20:\n",
    "        rare.append(word)\n",
    "        \n",
    "\n",
    "\"\"\"\n",
    "The word index for keras Tokenizer is ordered based on frequency. Therefore we can do the following according to\n",
    "https://github.com/keras-team/keras/issues/8092\n",
    "\"\"\"\n",
    "num_words_to_keep = int(round((len(t.word_index) - len(rare)) * 1.05,0))\n",
    "t.oov_token = '_unknown_'\n",
    "t.word_index = {e:i for e,i in t.word_index.items() if i <= num_words_to_keep} # <= because tokenizer is 1 indexed\n",
    "t.word_index[t.oov_token] = num_words_to_keep + 1\n",
    "\n",
    "\"\"\"\n",
    "Apply the tokenizer\n",
    "\"\"\"\n",
    "encoded_docs = t.texts_to_sequences(doc_train_processed)\n",
    "\n",
    "\n",
    "print(\"Original text:\")\n",
    "print(X_train[0])\n",
    "print(\"Processed:\")\n",
    "print(doc_train_processed[0])\n",
    "print(\"Vectorized:\")\n",
    "print(encoded_docs[0])"
   ]
  },
  {
   "cell_type": "code",
   "execution_count": 11,
   "metadata": {},
   "outputs": [
    {
     "data": {
      "image/png": "[encoded data removed]",
      "text/plain": [
       "<Figure size 432x288 with 1 Axes>"
      ]
     },
     "metadata": {
      "needs_background": "light"
     },
     "output_type": "display_data"
    }
   ],
   "source": [
    "\"\"\"\n",
    "Decide the max length of documents\n",
    "\"\"\"\n",
    "pd.Series(encoded_docs).apply(lambda x: len(x)).hist(bins = 20);\n",
    "\n",
    "\"\"\"\n",
    "Padding\n",
    "\"\"\"\n",
    "from keras.preprocessing.sequence import pad_sequences\n",
    "max_len = 200\n",
    "\n",
    "padded_doc = pad_sequences(encoded_docs, maxlen = max_len, padding = 'post')"
   ]
  },
  {
   "cell_type": "markdown",
   "metadata": {},
   "source": [
    "## Load the pre-trained models"
   ]
  },
  {
   "cell_type": "code",
   "execution_count": 13,
   "metadata": {},
   "outputs": [
    {
     "name": "stdout",
     "output_type": "stream",
     "text": [
      "Loaded 400000 word vectors.\n"
     ]
    }
   ],
   "source": [
    "\"\"\"\n",
    "Load the embedded words into memory\n",
    "\"\"\"\n",
    "# load the whole embedding into memory\n",
    "embeddings_index = dict()\n",
    "f = open(GLOVE_PATH,encoding='utf-8')\n",
    "for line in f:\n",
    "    values = line.split()\n",
    "    word = values[0]\n",
    "    coefs = np.array(values[1:], dtype='float32')\n",
    "    embeddings_index[word] = coefs\n",
    "f.close()\n",
    "print('Loaded %s word vectors.' % len(embeddings_index))"
   ]
  },
  {
   "cell_type": "code",
   "execution_count": 14,
   "metadata": {},
   "outputs": [],
   "source": [
    "\"\"\"\n",
    "Create the weight matrix for terms in training doc\n",
    "\"\"\"\n",
    "vocab_size = len(t.word_index) + 1\n",
    "\n",
    "embedding_matrix = np.zeros((vocab_size, 100))\n",
    "# Log the terms that didn't get the embedding\n",
    "none_count = 0\n",
    "none_terms = list()\n",
    "\n",
    "for word, i in t.word_index.items():\n",
    "    embedding_vector = embeddings_index.get(word)\n",
    "    if embedding_vector is not None:\n",
    "        embedding_matrix[i] = embedding_vector\n",
    "    else:\n",
    "        none_count = none_count + 1\n",
    "        none_terms.append(word)"
   ]
  },
  {
   "cell_type": "markdown",
   "metadata": {},
   "source": [
    "## Define the model"
   ]
  },
  {
   "cell_type": "code",
   "execution_count": 17,
   "metadata": {},
   "outputs": [
    {
     "name": "stdout",
     "output_type": "stream",
     "text": [
      "_________________________________________________________________\n",
      "Layer (type)                 Output Shape              Param #   \n",
      "=================================================================\n",
      "input_3 (InputLayer)         (None, 200)               0         \n",
      "_________________________________________________________________\n",
      "embedding_3 (Embedding)      (None, 200, 100)          52400     \n",
      "_________________________________________________________________\n",
      "conv1d_3 (Conv1D)            (None, 200, 32)           16032     \n",
      "_________________________________________________________________\n",
      "max_pooling1d_3 (MaxPooling1 (None, 200, 32)           0         \n",
      "_________________________________________________________________\n",
      "dropout_3 (Dropout)          (None, 200, 32)           0         \n",
      "_________________________________________________________________\n",
      "bidirectional_3 (Bidirection (None, 100)               33200     \n",
      "_________________________________________________________________\n",
      "dense_5 (Dense)              (None, 50)                5050      \n",
      "_________________________________________________________________\n",
      "dense_6 (Dense)              (None, 1)                 51        \n",
      "=================================================================\n",
      "Total params: 106,733\n",
      "Trainable params: 54,333\n",
      "Non-trainable params: 52,400\n",
      "_________________________________________________________________\n",
      "None\n"
     ]
    }
   ],
   "source": [
    "from keras.models import Sequential\n",
    "from keras.layers import Embedding, LSTM, Dense, Dropout, RepeatVector, TimeDistributed, Bidirectional,Input,Conv1D,\\\n",
    "MaxPooling1D\n",
    "from keras.models import Model\n",
    "from keras import losses, metrics\n",
    "from keras.optimizers import adam\n",
    "\n",
    "def create_model(neuron_num = 50,print_summary = False):\n",
    "    \n",
    "    inp = Input(shape = (max_len,))\n",
    "\n",
    "    # We don't want to update the weights. Therefore we set \"trainable\" to False\n",
    "    embedding = Embedding(vocab_size, 100, weights=[embedding_matrix], input_length=max_len, trainable=False)(inp)\n",
    "\n",
    "    # Add a convolution layer.\n",
    "    conv1 = Conv1D(filters = 32, kernel_size = 5,padding = 'same')(embedding)\n",
    "\n",
    "    # Add a max-pooling layer. To understand \"strides,\" check out the following video by Andrew Ng:\n",
    "    # https://www.youtube.com/watch?v=8oOgPUO-TBY\n",
    "\n",
    "    maxp1 = MaxPooling1D(pool_size = 5,strides = 1,padding = 'same')(conv1)\n",
    "    \n",
    "    dropout1 = Dropout(0.4)(maxp1)\n",
    "\n",
    "    lstm1 = Bidirectional(LSTM(neuron_num,return_sequences = False,dropout = 0.2,recurrent_dropout = 0.2))(dropout1)\n",
    "    \n",
    "    dense1 = Dense(50,activation = 'relu')(lstm1)\n",
    "            \n",
    "    dense2 = Dense(1,activation = 'sigmoid')(dense1)\n",
    "\n",
    "    model = Model(inputs = inp, outputs = dense2)\n",
    "    \n",
    "    # Define the optimizer\n",
    "    optm = adam(lr = 0.001)\n",
    "\n",
    "    model.compile(loss=['binary_crossentropy'], optimizer=optm, metrics=['binary_accuracy'])\n",
    "    \n",
    "    if print_summary:\n",
    "        print(model.summary())\n",
    "    \n",
    "    return model\n",
    "    \n",
    "    \n",
    "model = create_model(print_summary=True)"
   ]
  },
  {
   "cell_type": "markdown",
   "metadata": {},
   "source": [
    "Update from August 2019:\n",
    "\n",
    "Consider recified adam as the optimizer:\n",
    "\n",
    "https://pypi.org/project/keras-radam/\n",
    "\n",
    "https://medium.com/@lessw/new-state-of-the-art-ai-optimizer-rectified-adam-radam-5d854730807b"
   ]
  },
  {
   "cell_type": "code",
   "execution_count": 18,
   "metadata": {},
   "outputs": [],
   "source": [
    "\"\"\"\n",
    "Defining early-stopping callback\n",
    "\"\"\"\n",
    "from keras.callbacks import EarlyStopping\n",
    "# Define an early-stopping callback\n",
    "cb = [EarlyStopping(monitor='val_loss',patience = 2)]"
   ]
  },
  {
   "cell_type": "markdown",
   "metadata": {},
   "source": [
    "## Train the model"
   ]
  },
  {
   "cell_type": "code",
   "execution_count": 20,
   "metadata": {},
   "outputs": [
    {
     "name": "stdout",
     "output_type": "stream",
     "text": [
      "WARNING:tensorflow:From /anaconda3/lib/python3.7/site-packages/tensorflow/python/ops/math_ops.py:3066: to_int32 (from tensorflow.python.ops.math_ops) is deprecated and will be removed in a future version.\n",
      "Instructions for updating:\n",
      "Use tf.cast instead.\n",
      "Train on 1200 samples, validate on 300 samples\n",
      "Epoch 1/20\n",
      "1200/1200 [==============================] - 10s 9ms/step - loss: 0.6623 - binary_accuracy: 0.5992 - val_loss: 0.5915 - val_binary_accuracy: 0.7167\n",
      "Epoch 2/20\n",
      "1200/1200 [==============================] - 8s 7ms/step - loss: 0.5451 - binary_accuracy: 0.7342 - val_loss: 0.5464 - val_binary_accuracy: 0.7100\n",
      "Epoch 3/20\n",
      "1200/1200 [==============================] - 8s 7ms/step - loss: 0.4664 - binary_accuracy: 0.7833 - val_loss: 0.4848 - val_binary_accuracy: 0.7700\n",
      "Epoch 4/20\n",
      "1200/1200 [==============================] - 8s 7ms/step - loss: 0.4044 - binary_accuracy: 0.8250 - val_loss: 0.4462 - val_binary_accuracy: 0.8000\n",
      "Epoch 5/20\n",
      "1200/1200 [==============================] - 8s 6ms/step - loss: 0.3750 - binary_accuracy: 0.8392 - val_loss: 0.4318 - val_binary_accuracy: 0.8000\n",
      "Epoch 6/20\n",
      "1200/1200 [==============================] - 8s 6ms/step - loss: 0.3865 - binary_accuracy: 0.8450 - val_loss: 0.4298 - val_binary_accuracy: 0.8100\n",
      "Epoch 7/20\n",
      "1200/1200 [==============================] - 8s 6ms/step - loss: 0.3426 - binary_accuracy: 0.8542 - val_loss: 0.6045 - val_binary_accuracy: 0.7533\n",
      "Epoch 8/20\n",
      "1200/1200 [==============================] - 8s 6ms/step - loss: 0.3528 - binary_accuracy: 0.8517 - val_loss: 0.4302 - val_binary_accuracy: 0.8267\n"
     ]
    },
    {
     "data": {
      "text/plain": [
       "<keras.callbacks.History at 0x1a3d2d1550>"
      ]
     },
     "execution_count": 20,
     "metadata": {},
     "output_type": "execute_result"
    }
   ],
   "source": [
    "\"\"\"\n",
    "Training the model\n",
    "\"\"\"\n",
    "batch_size = 32\n",
    "num_epochs = 20\n",
    "#\n",
    "x_training = padded_doc\n",
    "y_training = y_train.values\n",
    "\n",
    "model.fit(x_training, y_training,validation_split=0.2,\\\n",
    "          batch_size=batch_size, epochs=num_epochs,verbose=1,callbacks =cb)"
   ]
  },
  {
   "cell_type": "code",
   "execution_count": 25,
   "metadata": {},
   "outputs": [
    {
     "data": {
      "text/plain": [
       "<matplotlib.legend.Legend at 0x1a34e92da0>"
      ]
     },
     "execution_count": 25,
     "metadata": {},
     "output_type": "execute_result"
    },
    {
     "data": {
      "image/png": "[encoded data removed]",
      "text/plain": [
       "<Figure size 432x288 with 1 Axes>"
      ]
     },
     "metadata": {
      "needs_background": "light"
     },
     "output_type": "display_data"
    },
    {
     "data": {
      "image/png": "[encoded data removed]",
      "text/plain": [
       "<Figure size 432x288 with 1 Axes>"
      ]
     },
     "metadata": {
      "needs_background": "light"
     },
     "output_type": "display_data"
    }
   ],
   "source": [
    "\"\"\"\n",
    "plot the history \n",
    "\"\"\"\n",
    "from matplotlib import pyplot as plt\n",
    "plt.figure(0)\n",
    "plt.plot(model.history.history['loss'])\n",
    "plt.plot(model.history.history['val_loss'])\n",
    "plt.title('model accuracy')\n",
    "plt.ylabel('accuracy')\n",
    "plt.xlabel('epoch')\n",
    "plt.legend(['train', 'test'], loc='upper left')\n",
    "# loss\n",
    "plt.figure(1)\n",
    "plt.plot(model.history.history['loss'])\n",
    "plt.plot(model.history.history['val_loss'])\n",
    "plt.title('model loss')\n",
    "plt.ylabel('loss')\n",
    "plt.xlabel('epoch')\n",
    "plt.legend(['train', 'test'], loc='upper left')\n"
   ]
  },
  {
   "cell_type": "code",
   "execution_count": 27,
   "metadata": {},
   "outputs": [
    {
     "name": "stdout",
     "output_type": "stream",
     "text": [
      "500/500 [==============================] - 1s 1ms/step\n"
     ]
    },
    {
     "data": {
      "text/plain": [
       "[0.4470547251701355, 0.8200000009536743]"
      ]
     },
     "execution_count": 27,
     "metadata": {},
     "output_type": "execute_result"
    }
   ],
   "source": [
    "\"\"\"\n",
    "Evalutaion\n",
    "\"\"\"\n",
    "model = model\n",
    "# Get the test data. Evalutate on 5000 examples\n",
    "test_processed = text_tokenizer_xm(text = X_test,lemma_flag = True, stem_flag = False, \\\n",
    "                                           stopwords=[],contractions = contractions).txt_pre_pros_all()\n",
    "\n",
    "encoded_test_doc = t.texts_to_sequences(test_processed)\n",
    "padded_test_doc = pad_sequences(encoded_test_doc, maxlen = max_len, padding = 'post')\n",
    "\n",
    "model.evaluate(padded_test_doc, y_test)"
   ]
  },
  {
   "cell_type": "markdown",
   "metadata": {},
   "source": [
    "## Optional: Tuning with Grid Search"
   ]
  },
  {
   "cell_type": "code",
   "execution_count": null,
   "metadata": {},
   "outputs": [],
   "source": [
    "\"\"\"\n",
    "Set up hyper-parameter tunning\n",
    "\"\"\"\n",
    "from keras.wrappers.scikit_learn import KerasClassifier\n",
    "from keras.callbacks import EarlyStopping\n",
    "from sklearn.model_selection import RandomizedSearchCV\n",
    "\n",
    "# Define the model\n",
    "model = KerasClassifier(build_fn = create_model)\n",
    "\n",
    "# Define batch size and epochs\n",
    "batch_size = [32,64]\n",
    "epochs = [3,4]\n",
    "lr_rates = [0.001,0.005, 0.01]\n",
    "drop_outs = [0.1,0.2]\n",
    "neuron_sizes = [50,100,150]\n",
    "param_grid = dict(neuron_num = neuron_sizes)\n",
    "\n",
    "grid = RandomizedSearchCV(estimator = model, param_distributions = param_grid,cv = 30)\n",
    "\n",
    "# Define an early-stopping callback\n",
    "cb = [EarlyStopping(monitor='val_loss',patience = 2)]\n",
    "\n",
    "grid_result = grid.fit(X = padded_doc, y = y_train.values, callbacks = cb,validation_split=0.1)"
   ]
  },
  {
   "cell_type": "code",
   "execution_count": null,
   "metadata": {},
   "outputs": [],
   "source": []
  }
 ],
 "metadata": {
  "kernelspec": {
   "display_name": "Python 3",
   "language": "python",
   "name": "python3"
  },
  "language_info": {
   "codemirror_mode": {
    "name": "ipython",
    "version": 3
   },
   "file_extension": ".py",
   "mimetype": "text/x-python",
   "name": "python",
   "nbconvert_exporter": "python",
   "pygments_lexer": "ipython3",
   "version": "3.7.3"
  }
 },
 "nbformat": 4,
 "nbformat_minor": 2
}
